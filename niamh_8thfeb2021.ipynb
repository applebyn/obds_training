{
 "cells": [
  {
   "cell_type": "markdown",
   "id": "mobile-broad",
   "metadata": {},
   "source": [
    "niamh_8thfeb2021"
   ]
  },
  {
   "cell_type": "markdown",
   "id": "juvenile-macintosh",
   "metadata": {},
   "source": [
    "add the plus to get other cells"
   ]
  },
  {
   "cell_type": "markdown",
   "id": "closed-commander",
   "metadata": {},
   "source": [
    "run from the (obds_py3) conda environment"
   ]
  },
  {
   "cell_type": "code",
   "execution_count": 1,
   "id": "dated-aquatic",
   "metadata": {},
   "outputs": [
    {
     "name": "stdout",
     "output_type": "stream",
     "text": [
      "Mon Feb  8 11:17:11 GMT 2021\n",
      "/ifs/obds-training/jan21/niamh/devel/python_datascience\n",
      "obds_py3              *  /ifs/obds-training/jan21/niamh/conda/obds_conda/envs/obds_py3\n"
     ]
    }
   ],
   "source": [
    "!date\n",
    "!pwd\n",
    "! conda env list | grep '*'"
   ]
  },
  {
   "cell_type": "markdown",
   "id": "imperial-covering",
   "metadata": {},
   "source": [
    "and another plus for another cell"
   ]
  },
  {
   "cell_type": "markdown",
   "id": "raising-thanksgiving",
   "metadata": {},
   "source": [
    "the in-built python commands go green and bold"
   ]
  },
  {
   "cell_type": "markdown",
   "id": "northern-beaver",
   "metadata": {},
   "source": [
    "you can execute the code in each cell seperately"
   ]
  },
  {
   "cell_type": "code",
   "execution_count": 3,
   "id": "medical-packing",
   "metadata": {},
   "outputs": [
    {
     "name": "stdout",
     "output_type": "stream",
     "text": [
      "atacct\n"
     ]
    }
   ],
   "source": [
    "y = 'atacct'\n",
    "print(y)"
   ]
  },
  {
   "cell_type": "markdown",
   "id": "miniature-picture",
   "metadata": {},
   "source": [
    "use the 'code' 'markdown' 'raw' button at the top to switch between text and code"
   ]
  }
 ],
 "metadata": {
  "kernelspec": {
   "display_name": "Python 3",
   "language": "python",
   "name": "python3"
  },
  "language_info": {
   "codemirror_mode": {
    "name": "ipython",
    "version": 3
   },
   "file_extension": ".py",
   "mimetype": "text/x-python",
   "name": "python",
   "nbconvert_exporter": "python",
   "pygments_lexer": "ipython3",
   "version": "3.6.12"
  }
 },
 "nbformat": 4,
 "nbformat_minor": 5
}
